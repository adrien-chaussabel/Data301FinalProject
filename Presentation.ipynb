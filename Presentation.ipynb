{
 "cells": [
  {
   "cell_type": "markdown",
   "metadata": {},
   "source": [
    "# Classifying the Subreddit of Origin from a Comment\n",
    "### Adrien Chaussabel\n",
    "\n",
    "<img src = \"https://logodownload.org/wp-content/uploads/2018/02/reddit-logo.png\" alt=\"reddit logo\" width=\"400\"/>\n",
    "\n",
    "For those of you unaware of what Reddit is, it is self-described as \"the front page of the internet\". It is home to over 100,000 **subreddits.** Subreddits are the communities within Reddit that define the topic. For example, on **/r/soccer**, users talk about professional soccer from all the different leagues around the world. On **/r/nba** users talk about NBA games, potential roster changes, and share interesting statistics about players and teams.\n",
    "\n",
    "### Research Question:\n",
    "\n",
    "How well can machine learning predict the origin of a given comment was based soley on the text of the comment?"
   ]
  },
  {
   "cell_type": "markdown",
   "metadata": {},
   "source": [
    "# 1. Data Collection/Cleaning\n",
    "\n",
    "Here are the subreddits I picked to be my classes.\n",
    "\n",
    "* leagueoflegends\n",
    "* hiphopheads\n",
    "* GlobalOffensive\n",
    "* Android \n",
    "* MechanicalKeyboards \n",
    "* ProgrammerHumor\n",
    "* cscareerquestions\n",
    "* Kanye\n",
    "* malefashionadvice\n",
    "* indieheads\n",
    "* frugalmalefashion\n",
    "* fantanoforever\n",
    "* CalPoly\n",
    "\n",
    "Here are the subreddits I was intererested in. Originally it was a list of 16, but I trimmed it down because it was too many classes. I selected these subreddits because they are subreddits I am subscribed to and interested in. I also selected subreddits I thought would be very similar (like malefashionadvice/frugalmalefashion and hiphopheads/Kanye) and subreddits I thought would be quite different (like android/malefashionadvice)."
   ]
  },
  {
   "cell_type": "markdown",
   "metadata": {},
   "source": [
    "![pushshift_logo](./images/pushshift_logo.png)\n",
    "\n",
    "I originally thought of collecting data with the offical Reddit API, but it has a pretty severe rate limit of 1 request per second. Instead of Reddit's official API I used [Pushshift](https://pushshift.io/). Pushshift is an API that collects live data from Reddit and stores it online. Here is a quick example of the json that gets returned from /r/nba this morning.\n",
    "![](./images/example_pushshift.png)\n",
    "\n",
    "\n"
   ]
  },
  {
   "cell_type": "markdown",
   "metadata": {},
   "source": [
    "Pushshift allows from **120-200 requests per minute** (different depending on where you look in the documentation), with a limit of 1,000 comments per request. Pushshift is very convinient because I can request all the comments from a set of subreddits, in a single request. It was perfect for my needs for this project, besides the fact that 1,000 comments per request was not very much. I let my computer run the data collection for **4.5 hours** in order to collect half a years worth of comments, and I ended up making **7,675** requests which collected **7.6+ million comments.** This is probably excessive but for the project it seemed better to have too much data instead of too little.\n",
    "\n",
    "\n",
    "You can find more information on Pushshift [here](https://www.reddit.com/r/pushshift/comments/bcxguf/new_to_pushshift_read_this_faq/) on their FAQ/beginners guide.\n",
    "\n",
    "You can also get my data of 7.6 million comments (3.45 GB csv) on [**Kaggle!**](https://www.kaggle.com/adrienchaussabel/reddit-comments-from-jan-1-to-jul-1-2019)"
   ]
  },
  {
   "cell_type": "markdown",
   "metadata": {},
   "source": [
    "# 2. Data Exploration and Analysis"
   ]
  },
  {
   "cell_type": "code",
   "execution_count": 3,
   "metadata": {},
   "outputs": [
    {
     "data": {
      "text/html": [
       "<div>\n",
       "<style scoped>\n",
       "    .dataframe tbody tr th:only-of-type {\n",
       "        vertical-align: middle;\n",
       "    }\n",
       "\n",
       "    .dataframe tbody tr th {\n",
       "        vertical-align: top;\n",
       "    }\n",
       "\n",
       "    .dataframe thead th {\n",
       "        text-align: right;\n",
       "    }\n",
       "</style>\n",
       "<table border=\"1\" class=\"dataframe\">\n",
       "  <thead>\n",
       "    <tr style=\"text-align: right;\">\n",
       "      <th></th>\n",
       "      <th>all_awardings</th>\n",
       "      <th>author</th>\n",
       "      <th>author_cakeday</th>\n",
       "      <th>author_created_utc</th>\n",
       "      <th>author_flair_background_color</th>\n",
       "      <th>author_flair_css_class</th>\n",
       "      <th>author_flair_richtext</th>\n",
       "      <th>author_flair_template_id</th>\n",
       "      <th>author_flair_text</th>\n",
       "      <th>author_flair_text_color</th>\n",
       "      <th>...</th>\n",
       "      <th>parent_id</th>\n",
       "      <th>permalink</th>\n",
       "      <th>retrieved_on</th>\n",
       "      <th>score</th>\n",
       "      <th>send_replies</th>\n",
       "      <th>stickied</th>\n",
       "      <th>subreddit</th>\n",
       "      <th>subreddit_id</th>\n",
       "      <th>total_awards_received</th>\n",
       "      <th>updated_utc</th>\n",
       "    </tr>\n",
       "  </thead>\n",
       "  <tbody>\n",
       "    <tr>\n",
       "      <td>0</td>\n",
       "      <td>NaN</td>\n",
       "      <td>jayburd13</td>\n",
       "      <td>NaN</td>\n",
       "      <td>1.401375e+09</td>\n",
       "      <td>NaN</td>\n",
       "      <td>NaN</td>\n",
       "      <td>[]</td>\n",
       "      <td>NaN</td>\n",
       "      <td>NaN</td>\n",
       "      <td>NaN</td>\n",
       "      <td>...</td>\n",
       "      <td>t3_ab8wps</td>\n",
       "      <td>/r/leagueoflegends/comments/ab8wps/whats_the_b...</td>\n",
       "      <td>1546300806</td>\n",
       "      <td>1</td>\n",
       "      <td>True</td>\n",
       "      <td>False</td>\n",
       "      <td>leagueoflegends</td>\n",
       "      <td>t5_2rfxx</td>\n",
       "      <td>NaN</td>\n",
       "      <td>1.546301e+09</td>\n",
       "    </tr>\n",
       "    <tr>\n",
       "      <td>1</td>\n",
       "      <td>NaN</td>\n",
       "      <td>seifyk</td>\n",
       "      <td>NaN</td>\n",
       "      <td>1.375508e+09</td>\n",
       "      <td>NaN</td>\n",
       "      <td>750k party</td>\n",
       "      <td>[]</td>\n",
       "      <td>06a2fafc-f4fd-11e8-b863-0e39835cd282</td>\n",
       "      <td>Genuine 750k Party Pin</td>\n",
       "      <td>dark</td>\n",
       "      <td>...</td>\n",
       "      <td>t1_ecz96p9</td>\n",
       "      <td>/r/GlobalOffensive/comments/aaz48j/thorins_top...</td>\n",
       "      <td>1546300809</td>\n",
       "      <td>1</td>\n",
       "      <td>True</td>\n",
       "      <td>False</td>\n",
       "      <td>GlobalOffensive</td>\n",
       "      <td>t5_2sqho</td>\n",
       "      <td>NaN</td>\n",
       "      <td>1.546301e+09</td>\n",
       "    </tr>\n",
       "    <tr>\n",
       "      <td>2</td>\n",
       "      <td>NaN</td>\n",
       "      <td>ClingerOn</td>\n",
       "      <td>NaN</td>\n",
       "      <td>1.540412e+09</td>\n",
       "      <td>NaN</td>\n",
       "      <td>NaN</td>\n",
       "      <td>[]</td>\n",
       "      <td>NaN</td>\n",
       "      <td>NaN</td>\n",
       "      <td>NaN</td>\n",
       "      <td>...</td>\n",
       "      <td>t1_ecz5udy</td>\n",
       "      <td>/r/hiphopheads/comments/ab966a/machine_gun_kel...</td>\n",
       "      <td>1546300813</td>\n",
       "      <td>1</td>\n",
       "      <td>True</td>\n",
       "      <td>False</td>\n",
       "      <td>hiphopheads</td>\n",
       "      <td>t5_2rh4c</td>\n",
       "      <td>NaN</td>\n",
       "      <td>1.546301e+09</td>\n",
       "    </tr>\n",
       "    <tr>\n",
       "      <td>3</td>\n",
       "      <td>NaN</td>\n",
       "      <td>SushiStood</td>\n",
       "      <td>NaN</td>\n",
       "      <td>1.465989e+09</td>\n",
       "      <td>NaN</td>\n",
       "      <td>750k party</td>\n",
       "      <td>[]</td>\n",
       "      <td>06a2fafc-f4fd-11e8-b863-0e39835cd282</td>\n",
       "      <td>Genuine 750k Party Pin</td>\n",
       "      <td>dark</td>\n",
       "      <td>...</td>\n",
       "      <td>t3_abcrwy</td>\n",
       "      <td>/r/GlobalOffensive/comments/abcrwy/alttab/ecza...</td>\n",
       "      <td>1546300814</td>\n",
       "      <td>1</td>\n",
       "      <td>True</td>\n",
       "      <td>False</td>\n",
       "      <td>GlobalOffensive</td>\n",
       "      <td>t5_2sqho</td>\n",
       "      <td>NaN</td>\n",
       "      <td>1.546301e+09</td>\n",
       "    </tr>\n",
       "    <tr>\n",
       "      <td>4</td>\n",
       "      <td>NaN</td>\n",
       "      <td>bbjimin</td>\n",
       "      <td>NaN</td>\n",
       "      <td>1.487492e+09</td>\n",
       "      <td>NaN</td>\n",
       "      <td>nidalee</td>\n",
       "      <td>[{'e': 'text', 't': 'peanut best girl - SKT화이팅...</td>\n",
       "      <td>7c4fb678-baa1-11e8-9836-0ec6dedb3898</td>\n",
       "      <td>peanut best girl - SKT화이팅! - CJ Flame :hearteyes:</td>\n",
       "      <td>dark</td>\n",
       "      <td>...</td>\n",
       "      <td>t1_eczav82</td>\n",
       "      <td>/r/leagueoflegends/comments/aba6t3/i_played_ov...</td>\n",
       "      <td>1546300819</td>\n",
       "      <td>1</td>\n",
       "      <td>True</td>\n",
       "      <td>False</td>\n",
       "      <td>leagueoflegends</td>\n",
       "      <td>t5_2rfxx</td>\n",
       "      <td>NaN</td>\n",
       "      <td>1.546301e+09</td>\n",
       "    </tr>\n",
       "  </tbody>\n",
       "</table>\n",
       "<p>5 rows × 36 columns</p>\n",
       "</div>"
      ],
      "text/plain": [
       "  all_awardings      author author_cakeday  author_created_utc  \\\n",
       "0           NaN   jayburd13            NaN        1.401375e+09   \n",
       "1           NaN      seifyk            NaN        1.375508e+09   \n",
       "2           NaN   ClingerOn            NaN        1.540412e+09   \n",
       "3           NaN  SushiStood            NaN        1.465989e+09   \n",
       "4           NaN     bbjimin            NaN        1.487492e+09   \n",
       "\n",
       "  author_flair_background_color author_flair_css_class  \\\n",
       "0                           NaN                    NaN   \n",
       "1                           NaN             750k party   \n",
       "2                           NaN                    NaN   \n",
       "3                           NaN             750k party   \n",
       "4                           NaN                nidalee   \n",
       "\n",
       "                               author_flair_richtext  \\\n",
       "0                                                 []   \n",
       "1                                                 []   \n",
       "2                                                 []   \n",
       "3                                                 []   \n",
       "4  [{'e': 'text', 't': 'peanut best girl - SKT화이팅...   \n",
       "\n",
       "               author_flair_template_id  \\\n",
       "0                                   NaN   \n",
       "1  06a2fafc-f4fd-11e8-b863-0e39835cd282   \n",
       "2                                   NaN   \n",
       "3  06a2fafc-f4fd-11e8-b863-0e39835cd282   \n",
       "4  7c4fb678-baa1-11e8-9836-0ec6dedb3898   \n",
       "\n",
       "                                   author_flair_text author_flair_text_color  \\\n",
       "0                                                NaN                     NaN   \n",
       "1                             Genuine 750k Party Pin                    dark   \n",
       "2                                                NaN                     NaN   \n",
       "3                             Genuine 750k Party Pin                    dark   \n",
       "4  peanut best girl - SKT화이팅! - CJ Flame :hearteyes:                    dark   \n",
       "\n",
       "   ...   parent_id                                          permalink  \\\n",
       "0  ...   t3_ab8wps  /r/leagueoflegends/comments/ab8wps/whats_the_b...   \n",
       "1  ...  t1_ecz96p9  /r/GlobalOffensive/comments/aaz48j/thorins_top...   \n",
       "2  ...  t1_ecz5udy  /r/hiphopheads/comments/ab966a/machine_gun_kel...   \n",
       "3  ...   t3_abcrwy  /r/GlobalOffensive/comments/abcrwy/alttab/ecza...   \n",
       "4  ...  t1_eczav82  /r/leagueoflegends/comments/aba6t3/i_played_ov...   \n",
       "\n",
       "  retrieved_on score  send_replies stickied        subreddit  subreddit_id  \\\n",
       "0   1546300806     1          True    False  leagueoflegends      t5_2rfxx   \n",
       "1   1546300809     1          True    False  GlobalOffensive      t5_2sqho   \n",
       "2   1546300813     1          True    False      hiphopheads      t5_2rh4c   \n",
       "3   1546300814     1          True    False  GlobalOffensive      t5_2sqho   \n",
       "4   1546300819     1          True    False  leagueoflegends      t5_2rfxx   \n",
       "\n",
       "   total_awards_received   updated_utc  \n",
       "0                    NaN  1.546301e+09  \n",
       "1                    NaN  1.546301e+09  \n",
       "2                    NaN  1.546301e+09  \n",
       "3                    NaN  1.546301e+09  \n",
       "4                    NaN  1.546301e+09  \n",
       "\n",
       "[5 rows x 36 columns]"
      ]
     },
     "metadata": {},
     "output_type": "display_data"
    },
    {
     "data": {
      "text/plain": [
       "leagueoflegends        3020255\n",
       "hiphopheads            1150540\n",
       "GlobalOffensive         929682\n",
       "Android                 567695\n",
       "MechanicalKeyboards     449603\n",
       "ProgrammerHumor         383040\n",
       "cscareerquestions       283356\n",
       "Kanye                   263177\n",
       "malefashionadvice       230993\n",
       "indieheads              212177\n",
       "frugalmalefashion       144106\n",
       "fantanoforever           29047\n",
       "CalPoly                  11199\n",
       "Name: subreddit, dtype: int64"
      ]
     },
     "metadata": {},
     "output_type": "display_data"
    },
    {
     "data": {
      "text/plain": [
       "<matplotlib.axes._subplots.AxesSubplot at 0x2c7749bb348>"
      ]
     },
     "execution_count": 3,
     "metadata": {},
     "output_type": "execute_result"
    },
    {
     "data": {
      "image/png": "[encoded data removed]",
      "text/plain": [
       "<Figure size 432x288 with 1 Axes>"
      ]
     },
     "metadata": {
      "needs_background": "light"
     },
     "output_type": "display_data"
    }
   ],
   "source": [
    "import pandas as pd\n",
    "import numpy as np\n",
    "\n",
    "#Read in Data and restrict our data to comments with text in the body\n",
    "df = pd.read_csv('Reddit_Comments_7M_2019.csv')\n",
    "df = df[df['body'].notnull()]\n",
    "display(df.head())\n",
    "display(df['subreddit'].value_counts())\n",
    "df['subreddit'].value_counts().plot.bar()"
   ]
  },
  {
   "cell_type": "markdown",
   "metadata": {},
   "source": [
    "### Top 10, 100, 250 Words from Bag of Words\n",
    "\n",
    "![top 10 words](./images/top_10_words_barchart.png)\n",
    "\n",
    "![top 100 words](./images/top_100_words_barchart.png)\n",
    "\n",
    "![top 250 words](./images/top_250_words_barchart.png)"
   ]
  },
  {
   "cell_type": "markdown",
   "metadata": {},
   "source": [
    "## Cosine Similarity Matrices\n",
    "\n",
    "\n",
    "### for Count Vectorizer Top 500 Words (Unigrams Only)\n",
    "![HeatMap1](./images/heatmap1.png)\n",
    "\n",
    "### for TF-IDF Top 500 Words (Unigrams Only)\n",
    "![HeatMap1](./images/heatmap2.png)\n",
    "### for TF-IDF Top 500 Words (Unigrams and Bigrams)\n",
    "![HeatMap3](./images/heatmap3.png)\n",
    "### for TF-IDF Top 500 Words (Bigrams Only)\n",
    "![HeatMap4](./images/heatmap4.png)"
   ]
  },
  {
   "cell_type": "markdown",
   "metadata": {},
   "source": [
    "## Graphing the Subreddits\n",
    "\n",
    "I wanted to see if I could plot the similarity on a graph as well. To do so, I took the matrix of the tf-idf of the bigrams and applied PCA Dimension Reduction so that it could be plotted on a 2D and 3D graph. Here is the result:\n",
    "\n",
    "![PC2 Graph](./images/PCA_subreddits.png)\n",
    "\n",
    "If you refer back to the Data Analysis notebook, you can use the interactive graph to see which dots are which. In summary, the four music subreddits are very grouped together and the two gaming subreddits are close together as well.\n",
    "\n",
    "![PC3 Graph](./images/PCA_3D.png)"
   ]
  },
  {
   "cell_type": "markdown",
   "metadata": {},
   "source": [
    "## Clustering\n",
    "\n",
    "I also tried KMeans clustering on the data. However, this did not work out at all. I put a fair amount of work into it so I'll show the results, but fair warning it does not look good.\n",
    "\n",
    "### Clustering\n",
    "![clustering](./images/clustering.png)\n",
    "\n",
    "### Original Data with Proper Labels\n",
    "![scatter plot with subreddits](./images/comments_scatter.png)"
   ]
  },
  {
   "cell_type": "markdown",
   "metadata": {},
   "source": [
    "# 3. Machine Learning"
   ]
  },
  {
   "cell_type": "markdown",
   "metadata": {},
   "source": [
    "### K-Nearest Neighbors\n",
    "For machine learning I started with our trusty old K-Nearest Neighbors model from our in class lessons. A couple notes about KNN before I dive into the results. KNN is very slow, especially when you introduce many data points. This was one of the biggest issues I found early on into the machine learning process. One way to speed this up is to make sure you pass in *n_jobs=-1* into the parameters list. This makes sure that your computers full compute power is used to run the algorithm. Since I had so much data, I ended up only running this model with 100-200 thousand comments. I felt comfortable doing this because KNN was just going to be my baseline."
   ]
  },
  {
   "cell_type": "code",
   "execution_count": null,
   "metadata": {},
   "outputs": [],
   "source": [
    "# Example of My KNN Code\n",
    "def machine_learn(model, X_train, y_train, n_unigrams=500, n_bigrams=500):\n",
    "    ct = make_column_transformer(\n",
    "        (TfidfVectorizer(max_features=n_unigrams), 'body'),\n",
    "        (TfidfVectorizer(max_features=n_bigrams, ngram_range=(2,2)), 'body'),\n",
    "        remainder='passthrough'\n",
    "    )\n",
    "\n",
    "    pipeline = make_pipeline(\n",
    "        ct,\n",
    "        StandardScaler(with_mean=False),\n",
    "        model\n",
    "    )\n",
    "\n",
    "    return pipeline.fit(X_train, y_train)\n",
    "pipeline = machine_learn(KNeighborsClassifier(n_neighbors=5, n_jobs=-1), X_train, y_train)\n",
    "ypred = pipeline.predict(X_test)\n",
    "get_scores(y_test, ypred, y_test.unique())"
   ]
  },
  {
   "cell_type": "markdown",
   "metadata": {},
   "source": [
    "### Output\n",
    "\n",
    "![knn stock output](./images/KNN_stock_output.png)"
   ]
  },
  {
   "cell_type": "markdown",
   "metadata": {},
   "source": [
    "As you can see, my poor computer was stuck on 99% CPU usage for much of the training and predicting. I ran all the machine learning on my personal computer with a modern, 8-core CPU and 16 GB of Memory.\n",
    "![my poor computer](./images/task_manager_dying.png)"
   ]
  },
  {
   "cell_type": "markdown",
   "metadata": {},
   "source": [
    "To tune the parameters of this model, namely the value of K. I decided to try to only predict between two classes: /r/fantanoforever and /r/malefashionadvice.\n",
    "\n",
    "Below are outputs for \n",
    "\n",
    "### k = 5 (no tuning)\n",
    "\n",
    "![binary no tuning knn](./images/binary_knn_stock.png)\n",
    "\n",
    "### k = 25 (used GridSearchCV)\n",
    "\n",
    "![binary no tuning knn](./images/binary_knn_tuned.png)\n",
    "\n",
    "With a GridSearchCV I set k=25, and was able to improve this accuracy from 84% to 88.7%, not bad. We can use this as our baseline. Let's see how another machine learning algorithm does now... "
   ]
  },
  {
   "cell_type": "markdown",
   "metadata": {},
   "source": [
    "## Random Forest\n",
    "\n",
    "Random Forest was another machine learning algorithm I used. For those of you unfamiliar with Random Forest, it is an ensemble learner that uses many trees to predict a class. Each tree is given a different sample of the data and a different set of features (usually sqrt(number of total features). Here is some sample code for my Random Forest.\n",
    "\n",
    "Random Forest was the method I used in the beer competition and had pretty good results. My primary reason for using random forest is because I worked with decision trees and random forest in CSC 466, Knowledge and Discovery with Data. I know how they work at a fundamental level so I wanted to use it for this project."
   ]
  },
  {
   "cell_type": "code",
   "execution_count": null,
   "metadata": {
    "scrolled": false
   },
   "outputs": [],
   "source": [
    "# Example code from Random Forest\n",
    "\n",
    "def machine_learn(model, X_train, y_train, n_unigrams=500, n_bigrams=500):\n",
    "    ct = make_column_transformer(\n",
    "        (TfidfVectorizer(max_features=n_unigrams), 'body'),\n",
    "        (TfidfVectorizer(max_features=n_bigrams, ngram_range=(2,2)), 'body'),\n",
    "        remainder='passthrough'\n",
    "    )\n",
    "\n",
    "    pipeline = make_pipeline(\n",
    "        ct,\n",
    "        model\n",
    "    )\n",
    "\n",
    "    return pipeline.fit(X_train, y_train)\n",
    "\n",
    "pipeline = machine_learn(RandomForestClassifier(n_jobs=-1), X_train, y_train)\n",
    "ypred = pipeline.predict(X_test)"
   ]
  },
  {
   "cell_type": "markdown",
   "metadata": {},
   "source": [
    "### Output and Results for stock Random Forest\n",
    "\n",
    "![random forest stock](./images/output_RF_stock.png)\n",
    "\n",
    "### Analysis of Default Random Forest\n",
    "\n",
    "Without tuning any parameters of the model, I was able to get an accuracy of 48.4% when using Random Forest to predict all 13 classes. As you can see above, some of the f1 scores and recalls were abysmal, especially for the smaller subsreddits like /r/CalPoly. Howeer, this accuracy is still better than our KNN out of the box."
   ]
  },
  {
   "cell_type": "markdown",
   "metadata": {},
   "source": [
    "## Binary Random Forest\n",
    "\n",
    "![](./images/binary_rf_stock.png)\n",
    "\n",
    "### Analysis of Default Random Forest for Binary Classification\n",
    "\n",
    "Wow we get an accuracy of 90%. That's a bit better than KNN, even when KNN is tuned. We can see that the precision and recall is also a fair bit better than KNN. Overall it seems that RF does a better job than KNN."
   ]
  },
  {
   "cell_type": "markdown",
   "metadata": {},
   "source": [
    "Like KNN, I did a GridSearchCV to tune the parameters. The parameters I tuned for (and the values that worked best) were: \n",
    "\n",
    "* max_features = 'sqrt' *(how many samples go into each tree)*\n",
    "* bootstrap = True *(do we do sampling with replacement or not)*\n",
    "* criterion = 'entropy' *(what metric to use when building each decision tree)*\n",
    "* min_samples_leaf = 2 *(What is the minimum samples required to create a leaf)*\n",
    "* min_samples_split = 4 *(What is the minimum samples required to create children in the tree)*\n",
    "\n",
    "Outside of GridSearchCV I also wanted to see how the number of bigrams and unigrams effected the accuracy of my model. Here it the table derived from that expirmentation.\n",
    "\n",
    "![unigram and bigrams tuned](./images/unigram_bigram_tuning.png)\n",
    "\n",
    "As you can see, the best combination is 1000 unigrams and 500 bigrams. This was the upper limit of how many unigrams and bigrams I set to test, so I suspect that if I made these even higher I would get better results. However, to maintain my sanity, I stopped my teseting there and kept those values."
   ]
  },
  {
   "cell_type": "markdown",
   "metadata": {},
   "source": [
    "## Final Results\n",
    "\n",
    "Let's see how my tuned model finally did with all the classes. For this I train on 3 million comments and test on 1 million. It took 6+ hours to complete both the training and prediction of this data.\n",
    "\n",
    "![final results](./images/final_results.png)\n",
    "\n",
    "\n"
   ]
  },
  {
   "cell_type": "markdown",
   "metadata": {},
   "source": [
    "# Conclusion"
   ]
  },
  {
   "cell_type": "markdown",
   "metadata": {},
   "source": [
    "I would say I found equal parts success and failure in my attempts to predict the subreddit based on the text of the comment. While trying to predict the class of all 13 subreddits returned less than ideal results, I am quite happy **54.5%** accuracy. Of course the individual recall and precision scores of each class leave something to be desired.\n",
    "\n",
    "However, I am happy with how my models worked on just predicting the two classes. Hoving at 80-90% accuracy over hundreds of thousands of comments is quite good and confirms my belief that the content of discussion between subreddits does differ quite a bit."
   ]
  },
  {
   "cell_type": "markdown",
   "metadata": {},
   "source": [
    "## Questions?"
   ]
  }
 ],
 "metadata": {
  "kernelspec": {
   "display_name": "Python 3",
   "language": "python",
   "name": "python3"
  },
  "language_info": {
   "codemirror_mode": {
    "name": "ipython",
    "version": 3
   },
   "file_extension": ".py",
   "mimetype": "text/x-python",
   "name": "python",
   "nbconvert_exporter": "python",
   "pygments_lexer": "ipython3",
   "version": "3.7.4"
  }
 },
 "nbformat": 4,
 "nbformat_minor": 2
}
