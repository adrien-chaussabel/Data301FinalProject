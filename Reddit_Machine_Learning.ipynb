{
 "cells": [
  {
   "cell_type": "code",
   "execution_count": 1,
   "metadata": {
    "colab": {},
    "colab_type": "code",
    "id": "dCbSWCYSmTRN"
   },
   "outputs": [],
   "source": [
    "import pandas as pd\n",
    "import numpy as np\n",
    "from sklearn.feature_extraction.text import TfidfVectorizer"
   ]
  },
  {
   "cell_type": "code",
   "execution_count": 2,
   "metadata": {},
   "outputs": [
    {
     "name": "stderr",
     "output_type": "stream",
     "text": [
      "C:\\Users\\Adrien\\Anaconda3\\lib\\site-packages\\IPython\\core\\interactiveshell.py:3058: DtypeWarning: Columns (0,22,24) have mixed types. Specify dtype option on import or set low_memory=False.\n",
      "  interactivity=interactivity, compiler=compiler, result=result)\n"
     ]
    }
   ],
   "source": [
    "df = pd.read_csv('Reddit_Comments_7M_2019.csv')"
   ]
  },
  {
   "cell_type": "code",
   "execution_count": 3,
   "metadata": {},
   "outputs": [
    {
     "data": {
      "text/html": [
       "<div>\n",
       "<style scoped>\n",
       "    .dataframe tbody tr th:only-of-type {\n",
       "        vertical-align: middle;\n",
       "    }\n",
       "\n",
       "    .dataframe tbody tr th {\n",
       "        vertical-align: top;\n",
       "    }\n",
       "\n",
       "    .dataframe thead th {\n",
       "        text-align: right;\n",
       "    }\n",
       "</style>\n",
       "<table border=\"1\" class=\"dataframe\">\n",
       "  <thead>\n",
       "    <tr style=\"text-align: right;\">\n",
       "      <th></th>\n",
       "      <th>all_awardings</th>\n",
       "      <th>author</th>\n",
       "      <th>author_cakeday</th>\n",
       "      <th>author_created_utc</th>\n",
       "      <th>author_flair_background_color</th>\n",
       "      <th>author_flair_css_class</th>\n",
       "      <th>author_flair_richtext</th>\n",
       "      <th>author_flair_template_id</th>\n",
       "      <th>author_flair_text</th>\n",
       "      <th>author_flair_text_color</th>\n",
       "      <th>...</th>\n",
       "      <th>parent_id</th>\n",
       "      <th>permalink</th>\n",
       "      <th>retrieved_on</th>\n",
       "      <th>score</th>\n",
       "      <th>send_replies</th>\n",
       "      <th>stickied</th>\n",
       "      <th>subreddit</th>\n",
       "      <th>subreddit_id</th>\n",
       "      <th>total_awards_received</th>\n",
       "      <th>updated_utc</th>\n",
       "    </tr>\n",
       "  </thead>\n",
       "  <tbody>\n",
       "    <tr>\n",
       "      <td>0</td>\n",
       "      <td>NaN</td>\n",
       "      <td>jayburd13</td>\n",
       "      <td>NaN</td>\n",
       "      <td>1.401375e+09</td>\n",
       "      <td>NaN</td>\n",
       "      <td>NaN</td>\n",
       "      <td>[]</td>\n",
       "      <td>NaN</td>\n",
       "      <td>NaN</td>\n",
       "      <td>NaN</td>\n",
       "      <td>...</td>\n",
       "      <td>t3_ab8wps</td>\n",
       "      <td>/r/leagueoflegends/comments/ab8wps/whats_the_b...</td>\n",
       "      <td>1546300806</td>\n",
       "      <td>1</td>\n",
       "      <td>True</td>\n",
       "      <td>False</td>\n",
       "      <td>leagueoflegends</td>\n",
       "      <td>t5_2rfxx</td>\n",
       "      <td>NaN</td>\n",
       "      <td>1.546301e+09</td>\n",
       "    </tr>\n",
       "    <tr>\n",
       "      <td>1</td>\n",
       "      <td>NaN</td>\n",
       "      <td>seifyk</td>\n",
       "      <td>NaN</td>\n",
       "      <td>1.375508e+09</td>\n",
       "      <td>NaN</td>\n",
       "      <td>750k party</td>\n",
       "      <td>[]</td>\n",
       "      <td>06a2fafc-f4fd-11e8-b863-0e39835cd282</td>\n",
       "      <td>Genuine 750k Party Pin</td>\n",
       "      <td>dark</td>\n",
       "      <td>...</td>\n",
       "      <td>t1_ecz96p9</td>\n",
       "      <td>/r/GlobalOffensive/comments/aaz48j/thorins_top...</td>\n",
       "      <td>1546300809</td>\n",
       "      <td>1</td>\n",
       "      <td>True</td>\n",
       "      <td>False</td>\n",
       "      <td>GlobalOffensive</td>\n",
       "      <td>t5_2sqho</td>\n",
       "      <td>NaN</td>\n",
       "      <td>1.546301e+09</td>\n",
       "    </tr>\n",
       "    <tr>\n",
       "      <td>2</td>\n",
       "      <td>NaN</td>\n",
       "      <td>ClingerOn</td>\n",
       "      <td>NaN</td>\n",
       "      <td>1.540412e+09</td>\n",
       "      <td>NaN</td>\n",
       "      <td>NaN</td>\n",
       "      <td>[]</td>\n",
       "      <td>NaN</td>\n",
       "      <td>NaN</td>\n",
       "      <td>NaN</td>\n",
       "      <td>...</td>\n",
       "      <td>t1_ecz5udy</td>\n",
       "      <td>/r/hiphopheads/comments/ab966a/machine_gun_kel...</td>\n",
       "      <td>1546300813</td>\n",
       "      <td>1</td>\n",
       "      <td>True</td>\n",
       "      <td>False</td>\n",
       "      <td>hiphopheads</td>\n",
       "      <td>t5_2rh4c</td>\n",
       "      <td>NaN</td>\n",
       "      <td>1.546301e+09</td>\n",
       "    </tr>\n",
       "    <tr>\n",
       "      <td>3</td>\n",
       "      <td>NaN</td>\n",
       "      <td>SushiStood</td>\n",
       "      <td>NaN</td>\n",
       "      <td>1.465989e+09</td>\n",
       "      <td>NaN</td>\n",
       "      <td>750k party</td>\n",
       "      <td>[]</td>\n",
       "      <td>06a2fafc-f4fd-11e8-b863-0e39835cd282</td>\n",
       "      <td>Genuine 750k Party Pin</td>\n",
       "      <td>dark</td>\n",
       "      <td>...</td>\n",
       "      <td>t3_abcrwy</td>\n",
       "      <td>/r/GlobalOffensive/comments/abcrwy/alttab/ecza...</td>\n",
       "      <td>1546300814</td>\n",
       "      <td>1</td>\n",
       "      <td>True</td>\n",
       "      <td>False</td>\n",
       "      <td>GlobalOffensive</td>\n",
       "      <td>t5_2sqho</td>\n",
       "      <td>NaN</td>\n",
       "      <td>1.546301e+09</td>\n",
       "    </tr>\n",
       "    <tr>\n",
       "      <td>4</td>\n",
       "      <td>NaN</td>\n",
       "      <td>bbjimin</td>\n",
       "      <td>NaN</td>\n",
       "      <td>1.487492e+09</td>\n",
       "      <td>NaN</td>\n",
       "      <td>nidalee</td>\n",
       "      <td>[{'e': 'text', 't': 'peanut best girl - SKT화이팅...</td>\n",
       "      <td>7c4fb678-baa1-11e8-9836-0ec6dedb3898</td>\n",
       "      <td>peanut best girl - SKT화이팅! - CJ Flame :hearteyes:</td>\n",
       "      <td>dark</td>\n",
       "      <td>...</td>\n",
       "      <td>t1_eczav82</td>\n",
       "      <td>/r/leagueoflegends/comments/aba6t3/i_played_ov...</td>\n",
       "      <td>1546300819</td>\n",
       "      <td>1</td>\n",
       "      <td>True</td>\n",
       "      <td>False</td>\n",
       "      <td>leagueoflegends</td>\n",
       "      <td>t5_2rfxx</td>\n",
       "      <td>NaN</td>\n",
       "      <td>1.546301e+09</td>\n",
       "    </tr>\n",
       "    <tr>\n",
       "      <td>...</td>\n",
       "      <td>...</td>\n",
       "      <td>...</td>\n",
       "      <td>...</td>\n",
       "      <td>...</td>\n",
       "      <td>...</td>\n",
       "      <td>...</td>\n",
       "      <td>...</td>\n",
       "      <td>...</td>\n",
       "      <td>...</td>\n",
       "      <td>...</td>\n",
       "      <td>...</td>\n",
       "      <td>...</td>\n",
       "      <td>...</td>\n",
       "      <td>...</td>\n",
       "      <td>...</td>\n",
       "      <td>...</td>\n",
       "      <td>...</td>\n",
       "      <td>...</td>\n",
       "      <td>...</td>\n",
       "      <td>...</td>\n",
       "      <td>...</td>\n",
       "    </tr>\n",
       "    <tr>\n",
       "      <td>7674994</td>\n",
       "      <td>[]</td>\n",
       "      <td>fullback133</td>\n",
       "      <td>NaN</td>\n",
       "      <td>NaN</td>\n",
       "      <td>NaN</td>\n",
       "      <td>NaN</td>\n",
       "      <td>[]</td>\n",
       "      <td>NaN</td>\n",
       "      <td>NaN</td>\n",
       "      <td>NaN</td>\n",
       "      <td>...</td>\n",
       "      <td>t3_c7l96l</td>\n",
       "      <td>/r/leagueoflegends/comments/c7l96l/how_can_i_g...</td>\n",
       "      <td>1561939359</td>\n",
       "      <td>1</td>\n",
       "      <td>True</td>\n",
       "      <td>False</td>\n",
       "      <td>leagueoflegends</td>\n",
       "      <td>t5_2rfxx</td>\n",
       "      <td>0.0</td>\n",
       "      <td>1.562026e+09</td>\n",
       "    </tr>\n",
       "    <tr>\n",
       "      <td>7674995</td>\n",
       "      <td>[]</td>\n",
       "      <td>Koteric</td>\n",
       "      <td>NaN</td>\n",
       "      <td>NaN</td>\n",
       "      <td>NaN</td>\n",
       "      <td>NaN</td>\n",
       "      <td>[]</td>\n",
       "      <td>NaN</td>\n",
       "      <td>NaN</td>\n",
       "      <td>NaN</td>\n",
       "      <td>...</td>\n",
       "      <td>t1_esf2ay0</td>\n",
       "      <td>/r/MechanicalKeyboards/comments/c7h0eg/miami_t...</td>\n",
       "      <td>1561939360</td>\n",
       "      <td>1</td>\n",
       "      <td>True</td>\n",
       "      <td>False</td>\n",
       "      <td>MechanicalKeyboards</td>\n",
       "      <td>t5_2ugo7</td>\n",
       "      <td>0.0</td>\n",
       "      <td>1.562026e+09</td>\n",
       "    </tr>\n",
       "    <tr>\n",
       "      <td>7674996</td>\n",
       "      <td>[]</td>\n",
       "      <td>kernevez</td>\n",
       "      <td>NaN</td>\n",
       "      <td>NaN</td>\n",
       "      <td>NaN</td>\n",
       "      <td>NaN</td>\n",
       "      <td>[]</td>\n",
       "      <td>NaN</td>\n",
       "      <td>NaN</td>\n",
       "      <td>NaN</td>\n",
       "      <td>...</td>\n",
       "      <td>t1_esfy9i8</td>\n",
       "      <td>/r/leagueoflegends/comments/c7gbiq/g2_jankos_o...</td>\n",
       "      <td>1561939361</td>\n",
       "      <td>12</td>\n",
       "      <td>True</td>\n",
       "      <td>False</td>\n",
       "      <td>leagueoflegends</td>\n",
       "      <td>t5_2rfxx</td>\n",
       "      <td>0.0</td>\n",
       "      <td>1.562026e+09</td>\n",
       "    </tr>\n",
       "    <tr>\n",
       "      <td>7674997</td>\n",
       "      <td>[]</td>\n",
       "      <td>TheGamingSponge</td>\n",
       "      <td>NaN</td>\n",
       "      <td>NaN</td>\n",
       "      <td>NaN</td>\n",
       "      <td>NaN</td>\n",
       "      <td>[{'a': ':oc:', 'e': 'emoji', 'u': 'https://emo...</td>\n",
       "      <td>58c61264-fd7d-11e8-9454-0e05befcf792</td>\n",
       "      <td>:oc: :leblanc:</td>\n",
       "      <td>dark</td>\n",
       "      <td>...</td>\n",
       "      <td>t1_esf2waw</td>\n",
       "      <td>/r/leagueoflegends/comments/c7g23t/rioter_snat...</td>\n",
       "      <td>1561939363</td>\n",
       "      <td>5</td>\n",
       "      <td>True</td>\n",
       "      <td>False</td>\n",
       "      <td>leagueoflegends</td>\n",
       "      <td>t5_2rfxx</td>\n",
       "      <td>0.0</td>\n",
       "      <td>1.562026e+09</td>\n",
       "    </tr>\n",
       "    <tr>\n",
       "      <td>7674998</td>\n",
       "      <td>[]</td>\n",
       "      <td>Rielglowballelleit</td>\n",
       "      <td>NaN</td>\n",
       "      <td>NaN</td>\n",
       "      <td>NaN</td>\n",
       "      <td>fan f3</td>\n",
       "      <td>[]</td>\n",
       "      <td>NaN</td>\n",
       "      <td>Flipsid3 Tactics Fan</td>\n",
       "      <td>dark</td>\n",
       "      <td>...</td>\n",
       "      <td>t1_esf8e9f</td>\n",
       "      <td>/r/GlobalOffensive/comments/c7feb4/the_role_of...</td>\n",
       "      <td>1561939363</td>\n",
       "      <td>4</td>\n",
       "      <td>True</td>\n",
       "      <td>False</td>\n",
       "      <td>GlobalOffensive</td>\n",
       "      <td>t5_2sqho</td>\n",
       "      <td>0.0</td>\n",
       "      <td>1.562026e+09</td>\n",
       "    </tr>\n",
       "  </tbody>\n",
       "</table>\n",
       "<p>7674999 rows × 36 columns</p>\n",
       "</div>"
      ],
      "text/plain": [
       "        all_awardings              author author_cakeday  author_created_utc  \\\n",
       "0                 NaN           jayburd13            NaN        1.401375e+09   \n",
       "1                 NaN              seifyk            NaN        1.375508e+09   \n",
       "2                 NaN           ClingerOn            NaN        1.540412e+09   \n",
       "3                 NaN          SushiStood            NaN        1.465989e+09   \n",
       "4                 NaN             bbjimin            NaN        1.487492e+09   \n",
       "...               ...                 ...            ...                 ...   \n",
       "7674994            []         fullback133            NaN                 NaN   \n",
       "7674995            []             Koteric            NaN                 NaN   \n",
       "7674996            []            kernevez            NaN                 NaN   \n",
       "7674997            []     TheGamingSponge            NaN                 NaN   \n",
       "7674998            []  Rielglowballelleit            NaN                 NaN   \n",
       "\n",
       "        author_flair_background_color author_flair_css_class  \\\n",
       "0                                 NaN                    NaN   \n",
       "1                                 NaN             750k party   \n",
       "2                                 NaN                    NaN   \n",
       "3                                 NaN             750k party   \n",
       "4                                 NaN                nidalee   \n",
       "...                               ...                    ...   \n",
       "7674994                           NaN                    NaN   \n",
       "7674995                           NaN                    NaN   \n",
       "7674996                           NaN                    NaN   \n",
       "7674997                           NaN                    NaN   \n",
       "7674998                           NaN                 fan f3   \n",
       "\n",
       "                                     author_flair_richtext  \\\n",
       "0                                                       []   \n",
       "1                                                       []   \n",
       "2                                                       []   \n",
       "3                                                       []   \n",
       "4        [{'e': 'text', 't': 'peanut best girl - SKT화이팅...   \n",
       "...                                                    ...   \n",
       "7674994                                                 []   \n",
       "7674995                                                 []   \n",
       "7674996                                                 []   \n",
       "7674997  [{'a': ':oc:', 'e': 'emoji', 'u': 'https://emo...   \n",
       "7674998                                                 []   \n",
       "\n",
       "                     author_flair_template_id  \\\n",
       "0                                         NaN   \n",
       "1        06a2fafc-f4fd-11e8-b863-0e39835cd282   \n",
       "2                                         NaN   \n",
       "3        06a2fafc-f4fd-11e8-b863-0e39835cd282   \n",
       "4        7c4fb678-baa1-11e8-9836-0ec6dedb3898   \n",
       "...                                       ...   \n",
       "7674994                                   NaN   \n",
       "7674995                                   NaN   \n",
       "7674996                                   NaN   \n",
       "7674997  58c61264-fd7d-11e8-9454-0e05befcf792   \n",
       "7674998                                   NaN   \n",
       "\n",
       "                                         author_flair_text  \\\n",
       "0                                                      NaN   \n",
       "1                                   Genuine 750k Party Pin   \n",
       "2                                                      NaN   \n",
       "3                                   Genuine 750k Party Pin   \n",
       "4        peanut best girl - SKT화이팅! - CJ Flame :hearteyes:   \n",
       "...                                                    ...   \n",
       "7674994                                                NaN   \n",
       "7674995                                                NaN   \n",
       "7674996                                                NaN   \n",
       "7674997                                     :oc: :leblanc:   \n",
       "7674998                               Flipsid3 Tactics Fan   \n",
       "\n",
       "        author_flair_text_color  ...   parent_id  \\\n",
       "0                           NaN  ...   t3_ab8wps   \n",
       "1                          dark  ...  t1_ecz96p9   \n",
       "2                           NaN  ...  t1_ecz5udy   \n",
       "3                          dark  ...   t3_abcrwy   \n",
       "4                          dark  ...  t1_eczav82   \n",
       "...                         ...  ...         ...   \n",
       "7674994                     NaN  ...   t3_c7l96l   \n",
       "7674995                     NaN  ...  t1_esf2ay0   \n",
       "7674996                     NaN  ...  t1_esfy9i8   \n",
       "7674997                    dark  ...  t1_esf2waw   \n",
       "7674998                    dark  ...  t1_esf8e9f   \n",
       "\n",
       "                                                 permalink retrieved_on score  \\\n",
       "0        /r/leagueoflegends/comments/ab8wps/whats_the_b...   1546300806     1   \n",
       "1        /r/GlobalOffensive/comments/aaz48j/thorins_top...   1546300809     1   \n",
       "2        /r/hiphopheads/comments/ab966a/machine_gun_kel...   1546300813     1   \n",
       "3        /r/GlobalOffensive/comments/abcrwy/alttab/ecza...   1546300814     1   \n",
       "4        /r/leagueoflegends/comments/aba6t3/i_played_ov...   1546300819     1   \n",
       "...                                                    ...          ...   ...   \n",
       "7674994  /r/leagueoflegends/comments/c7l96l/how_can_i_g...   1561939359     1   \n",
       "7674995  /r/MechanicalKeyboards/comments/c7h0eg/miami_t...   1561939360     1   \n",
       "7674996  /r/leagueoflegends/comments/c7gbiq/g2_jankos_o...   1561939361    12   \n",
       "7674997  /r/leagueoflegends/comments/c7g23t/rioter_snat...   1561939363     5   \n",
       "7674998  /r/GlobalOffensive/comments/c7feb4/the_role_of...   1561939363     4   \n",
       "\n",
       "         send_replies stickied            subreddit  subreddit_id  \\\n",
       "0                True    False      leagueoflegends      t5_2rfxx   \n",
       "1                True    False      GlobalOffensive      t5_2sqho   \n",
       "2                True    False          hiphopheads      t5_2rh4c   \n",
       "3                True    False      GlobalOffensive      t5_2sqho   \n",
       "4                True    False      leagueoflegends      t5_2rfxx   \n",
       "...               ...      ...                  ...           ...   \n",
       "7674994          True    False      leagueoflegends      t5_2rfxx   \n",
       "7674995          True    False  MechanicalKeyboards      t5_2ugo7   \n",
       "7674996          True    False      leagueoflegends      t5_2rfxx   \n",
       "7674997          True    False      leagueoflegends      t5_2rfxx   \n",
       "7674998          True    False      GlobalOffensive      t5_2sqho   \n",
       "\n",
       "         total_awards_received   updated_utc  \n",
       "0                          NaN  1.546301e+09  \n",
       "1                          NaN  1.546301e+09  \n",
       "2                          NaN  1.546301e+09  \n",
       "3                          NaN  1.546301e+09  \n",
       "4                          NaN  1.546301e+09  \n",
       "...                        ...           ...  \n",
       "7674994                    0.0  1.562026e+09  \n",
       "7674995                    0.0  1.562026e+09  \n",
       "7674996                    0.0  1.562026e+09  \n",
       "7674997                    0.0  1.562026e+09  \n",
       "7674998                    0.0  1.562026e+09  \n",
       "\n",
       "[7674999 rows x 36 columns]"
      ]
     },
     "execution_count": 3,
     "metadata": {},
     "output_type": "execute_result"
    }
   ],
   "source": [
    "df"
   ]
  },
  {
   "cell_type": "code",
   "execution_count": 4,
   "metadata": {},
   "outputs": [],
   "source": [
    "df = df[df['body'].notnull()]"
   ]
  },
  {
   "cell_type": "markdown",
   "metadata": {
    "colab_type": "text",
    "id": "wj-9DcUOmXDI"
   },
   "source": [
    "## Round 1\n",
    "\n",
    "I was able to pull 681000 comments from the following subreddits:\n",
    "* leagueoflegends\n",
    "* globaloffensive\n",
    "* calpoly\n",
    "* programmerhumor\n",
    "* hiphopheads\n",
    "* seattlewa\n",
    "* indieheads\n",
    "* malefashionadvice\n",
    "* frugalmalefashion\n",
    "* fantanoforever\n",
    "* mechanicalkeyboards\n",
    "* android\n",
    "* cscareerquestions\n",
    "* soccer\n",
    "* nba\n",
    "* movies\n",
    "* kanye\n",
    "\n",
    "Between March 1st and March 7th, 2020.\n",
    "\n",
    "This took me around 50 minutes of calling the Pushshift API because I can only call 1000 comments at a time.\n",
    "\n",
    "I ended up scrapping /r/nba and /r/soccer because there were so many of them, and I wanted to scrape comments quicker than that.\n",
    "\n"
   ]
  },
  {
   "cell_type": "code",
   "execution_count": 5,
   "metadata": {
    "colab": {},
    "colab_type": "code",
    "id": "_SVz-CdNwWYF"
   },
   "outputs": [],
   "source": [
    "from sklearn.preprocessing import StandardScaler, OneHotEncoder, MaxAbsScaler, RobustScaler\n",
    "from sklearn.neighbors import KNeighborsClassifier\n",
    "from sklearn.pipeline import make_pipeline\n",
    "from sklearn.compose import make_column_transformer\n",
    "from sklearn.feature_extraction.text import TfidfVectorizer, CountVectorizer\n",
    "from sklearn.model_selection import cross_val_score\n",
    "from sklearn.metrics import accuracy_score, f1_score, precision_score, recall_score\n",
    "from sklearn.neural_network import MLPClassifier\n",
    "from sklearn.ensemble import RandomForestClassifier"
   ]
  },
  {
   "cell_type": "code",
   "execution_count": 6,
   "metadata": {
    "colab": {},
    "colab_type": "code",
    "id": "-HfjrQ6JJYzo"
   },
   "outputs": [],
   "source": [
    "df_focus = df[['body', 'subreddit']].dropna().sample(1000000)\n",
    "df_focus = df_focus[(df_focus['subreddit'] == 'leagueoflegends') | (df_focus['subreddit'] == 'hiphopheads') | (df_focus['subreddit'] == 'MechanicalKeyboards')]\n",
    "\n",
    "X_train = df_focus[['body']]\n",
    "y_train = df_focus['subreddit']\n",
    "\n",
    "X_train = df_focus[['body']].sample(frac=.7)\n",
    "y_train = df_focus['subreddit'].loc[X_train.index]\n",
    "\n",
    "X_test = df_focus[['body']].drop(X_train.index)\n",
    "y_test = df_focus['subreddit'].drop(X_train.index)"
   ]
  },
  {
   "cell_type": "code",
   "execution_count": 10,
   "metadata": {
    "scrolled": true
   },
   "outputs": [
    {
     "data": {
      "text/plain": [
       "(                                                      body\n",
       " 3962980  &gt;This sub is irritatingly picky and minute....\n",
       " 6744406  I think yes, you need a certain look to pull o...\n",
       " 2468904  I have both, but I find myself wearing the sue...\n",
       " 2539185                                The jacket is navy \n",
       " 3880988  Question: \"if you are from Europe, where do yo...\n",
       " ...                                                    ...\n",
       " 238703   I'm 5'5\" 145 pounds athletic build I used to b...\n",
       " 1405781  Nobody needs two chains. Unless you're 2chainz...\n",
       " 103659   Personal preference, I follow the sport coat a...\n",
       " 5408314  Ah, neat. They're not my type of glasses but t...\n",
       " 3522621  If you can, buy a Jason Mark set. I bought one...\n",
       " \n",
       " [182028 rows x 1 columns], 3962980    malefashionadvice\n",
       " 6744406    malefashionadvice\n",
       " 2468904    malefashionadvice\n",
       " 2539185    malefashionadvice\n",
       " 3880988    malefashionadvice\n",
       "                  ...        \n",
       " 238703     malefashionadvice\n",
       " 1405781    malefashionadvice\n",
       " 103659     malefashionadvice\n",
       " 5408314    malefashionadvice\n",
       " 3522621    malefashionadvice\n",
       " Name: subreddit, Length: 182028, dtype: object,                                                       body\n",
       " 95       Been eating so much that I’ve finally have an ...\n",
       " 190      They look fine to me. They might wrinkle a bit...\n",
       " 241      Uniqlo actually extended their sizes. They now...\n",
       " 242      I think you’re worrying too much. Buy a horseh...\n",
       " 329                             Unbotton the bottom button\n",
       " ...                                                    ...\n",
       " 7674631                           Fuck, they look so nice.\n",
       " 7674759  He's probably too old to learn new tricks\\n\\nH...\n",
       " 7674823  I wear seven rings - five on my left hand and ...\n",
       " 7674877  Agree. The pattern looks ugly when it’s blown ...\n",
       " 7674920  IMO yes, would work better with more athleisur...\n",
       " \n",
       " [78012 rows x 1 columns], 95         malefashionadvice\n",
       " 190        malefashionadvice\n",
       " 241        malefashionadvice\n",
       " 242        malefashionadvice\n",
       " 329        malefashionadvice\n",
       "                  ...        \n",
       " 7674631    malefashionadvice\n",
       " 7674759    malefashionadvice\n",
       " 7674823    malefashionadvice\n",
       " 7674877    malefashionadvice\n",
       " 7674920    malefashionadvice\n",
       " Name: subreddit, Length: 78012, dtype: object)"
      ]
     },
     "execution_count": 10,
     "metadata": {},
     "output_type": "execute_result"
    }
   ],
   "source": [
    "X_train, y_train, X_test, y_test"
   ]
  },
  {
   "cell_type": "code",
   "execution_count": null,
   "metadata": {
    "colab": {
     "base_uri": "https://localhost:8080/",
     "height": 550
    },
    "colab_type": "code",
    "id": "9sj9KF38CmIc",
    "outputId": "1a565b1c-f341-4794-84bd-bd7b00cdfef9",
    "scrolled": true
   },
   "outputs": [],
   "source": [
    "from sklearn.feature_extraction.text import CountVectorizer\n",
    "ct = make_column_transformer(\n",
    "  (CountVectorizer(ngram_range=(1,2), max_features=100), 'body'),\n",
    "  remainder='passthrough'\n",
    ")\n",
    "\n",
    "pipeline = make_pipeline(\n",
    "    ct,\n",
    "    #StandardScaler(with_mean=False),\n",
    "    RandomForestClassifier(criterion='entropy', max_features='sqrt', n_jobs=-1, n_estimators = 100)\n",
    ")\n",
    "\n",
    "pipeline.fit(X_train, y_train)"
   ]
  },
  {
   "cell_type": "code",
   "execution_count": 55,
   "metadata": {},
   "outputs": [
    {
     "name": "stdout",
     "output_type": "stream",
     "text": [
      "Collecting pip\n",
      "  Downloading https://files.pythonhosted.org/packages/54/0c/d01aa759fdc501a58f431eb594a17495f15b88da142ce14b5845662c13f3/pip-20.0.2-py2.py3-none-any.whl (1.4MB)\n",
      "Installing collected packages: pip\n",
      "  Found existing installation: pip 19.2.3\n",
      "    Uninstalling pip-19.2.3:\n",
      "      Successfully uninstalled pip-19.2.3\n",
      "Successfully installed pip-20.0.2\n",
      "Collecting xgboost\n",
      "  Downloading xgboost-1.0.2-py3-none-win_amd64.whl (24.6 MB)\n",
      "Requirement already satisfied: numpy in c:\\users\\adrien\\anaconda3\\lib\\site-packages (from xgboost) (1.16.5)\n",
      "Requirement already satisfied: scipy in c:\\users\\adrien\\anaconda3\\lib\\site-packages (from xgboost) (1.3.1)\n",
      "Installing collected packages: xgboost\n",
      "Successfully installed xgboost-1.0.2\n"
     ]
    }
   ],
   "source": [
    "!python -m pip install --upgrade pip\n",
    "!pip3 install xgboost"
   ]
  },
  {
   "cell_type": "code",
   "execution_count": 60,
   "metadata": {},
   "outputs": [
    {
     "data": {
      "text/plain": [
       "Pipeline(memory=None,\n",
       "         steps=[('columntransformer',\n",
       "                 ColumnTransformer(n_jobs=None, remainder='passthrough',\n",
       "                                   sparse_threshold=0.3,\n",
       "                                   transformer_weights=None,\n",
       "                                   transformers=[('tfidfvectorizer',\n",
       "                                                  TfidfVectorizer(analyzer='word',\n",
       "                                                                  binary=False,\n",
       "                                                                  decode_error='strict',\n",
       "                                                                  dtype=<class 'numpy.float64'>,\n",
       "                                                                  encoding='utf-8',\n",
       "                                                                  input='content',\n",
       "                                                                  lowercase=True,\n",
       "                                                                  max_df=1.0,\n",
       "                                                                  max_features=...\n",
       "                               interaction_constraints=None,\n",
       "                               learning_rate=0.300000012, max_delta_step=0,\n",
       "                               max_depth=6, min_child_weight=1, missing=nan,\n",
       "                               monotone_constraints=None, n_estimators=500,\n",
       "                               n_jobs=-1, num_parallel_tree=1,\n",
       "                               objective='binary:logistic', random_state=0,\n",
       "                               reg_alpha=0, reg_lambda=1, scale_pos_weight=1,\n",
       "                               subsample=1, tree_method=None,\n",
       "                               validate_parameters=False, verbosity=None))],\n",
       "         verbose=False)"
      ]
     },
     "execution_count": 60,
     "metadata": {},
     "output_type": "execute_result"
    }
   ],
   "source": [
    "import xgboost as xgb\n",
    "\n",
    "ct = make_column_transformer(\n",
    "  (TfidfVectorizer(ngram_range=(1,2), max_features=500), 'body'),\n",
    "  remainder='passthrough'\n",
    ")\n",
    "\n",
    "pipeline = make_pipeline(\n",
    "    ct,\n",
    "    #StandardScaler(with_mean=False),\n",
    "    xgb.XGBClassifier(n_jobs=-1, n_estimators=500)\n",
    ")\n",
    "\n",
    "pipeline.fit(X_train, y_train)"
   ]
  },
  {
   "cell_type": "code",
   "execution_count": 61,
   "metadata": {
    "colab": {},
    "colab_type": "code",
    "id": "queKzgdB9SOZ"
   },
   "outputs": [
    {
     "data": {
      "text/plain": [
       "0.8050954476907421"
      ]
     },
     "execution_count": 61,
     "metadata": {},
     "output_type": "execute_result"
    }
   ],
   "source": [
    "ypred = pipeline.predict(X_test)\n",
    "accuracy_score(y_test, ypred)"
   ]
  },
  {
   "cell_type": "code",
   "execution_count": null,
   "metadata": {},
   "outputs": [],
   "source": [
    "get_scores(y_test, ypred, ['leagueoflegends', 'hiphopheads', 'MechanicalKeyboards'])"
   ]
  },
  {
   "cell_type": "code",
   "execution_count": 59,
   "metadata": {},
   "outputs": [
    {
     "data": {
      "text/plain": [
       "<matplotlib.axes._subplots.AxesSubplot at 0x298d62f51c8>"
      ]
     },
     "execution_count": 59,
     "metadata": {},
     "output_type": "execute_result"
    },
    {
     "data": {
      "image/png": "[encoded data removed]",
      "text/plain": [
       "<Figure size 432x288 with 1 Axes>"
      ]
     },
     "metadata": {
      "needs_background": "light"
     },
     "output_type": "display_data"
    }
   ],
   "source": [
    "pd.Series(ypred).value_counts(normalize=True).plot.bar()"
   ]
  },
  {
   "cell_type": "code",
   "execution_count": 43,
   "metadata": {},
   "outputs": [
    {
     "data": {
      "text/plain": [
       "<matplotlib.axes._subplots.AxesSubplot at 0x298cf43f748>"
      ]
     },
     "execution_count": 43,
     "metadata": {},
     "output_type": "execute_result"
    },
    {
     "data": {
      "image/png": "[encoded data removed]",
      "text/plain": [
       "<Figure size 432x288 with 1 Axes>"
      ]
     },
     "metadata": {
      "needs_background": "light"
     },
     "output_type": "display_data"
    }
   ],
   "source": [
    "pd.Series(y_test).value_counts(normalize=True).plot.bar()"
   ]
  },
  {
   "cell_type": "code",
   "execution_count": 55,
   "metadata": {},
   "outputs": [
    {
     "data": {
      "text/plain": [
       "0.3089077276151688"
      ]
     },
     "execution_count": 55,
     "metadata": {},
     "output_type": "execute_result"
    }
   ],
   "source": [
    "ypred = pipeline.predict(X_test)\n",
    "accuracy_score(y_test, ypred)"
   ]
  },
  {
   "cell_type": "code",
   "execution_count": 32,
   "metadata": {},
   "outputs": [],
   "source": [
    "def get_scores(y_test, ypred, labels):\n",
    "    print(\"Accuracy:\", accuracy_score(y_test, ypred))\n",
    "    for label in labels:\n",
    "        print(\"Precision for\", label + \":\", precision_score(y_test, ypred, pos_label=label))\n",
    "        print(\"Recall for\", label + \":\", recall_score(y_test, ypred, pos_label=label))"
   ]
  },
  {
   "cell_type": "code",
   "execution_count": 39,
   "metadata": {},
   "outputs": [
    {
     "name": "stdout",
     "output_type": "stream",
     "text": [
      "Accuracy: 0.7975736547208906\n",
      "Precision for leagueoflegends: 0.8111021662763466\n",
      "Recall for leagueoflegends: 0.9389184930404358\n",
      "Precision for hiphopheads: 0.7277807143396512\n",
      "Recall for hiphopheads: 0.4275289994898751\n"
     ]
    }
   ],
   "source": [
    "get_scores(y_test, ypred, ['leagueoflegends', 'hiphopheads'])"
   ]
  },
  {
   "cell_type": "code",
   "execution_count": 51,
   "metadata": {},
   "outputs": [
    {
     "data": {
      "text/plain": [
       "array([[0.3380371, 0.6619629]])"
      ]
     },
     "execution_count": 51,
     "metadata": {},
     "output_type": "execute_result"
    }
   ],
   "source": [
    "test = pd.DataFrame([['']], columns = ['body'])\n",
    "\n",
    "pipeline.predict_proba(test)"
   ]
  },
  {
   "cell_type": "code",
   "execution_count": 63,
   "metadata": {},
   "outputs": [
    {
     "name": "stdout",
     "output_type": "stream",
     "text": [
      "Accuracy: 0.8050954476907421\n",
      "Precision for leagueoflegends: 0.8165581436321326\n",
      "Recall for leagueoflegends: 0.9423495624327553\n",
      "Precision for hiphopheads: 0.7470542318700517\n",
      "Recall for hiphopheads: 0.44576041874598\n"
     ]
    }
   ],
   "source": [
    "get_scores(y_test, ypred, ['leagueoflegends', 'hiphopheads'])"
   ]
  },
  {
   "cell_type": "code",
   "execution_count": null,
   "metadata": {},
   "outputs": [],
   "source": []
  }
 ],
 "metadata": {
  "colab": {
   "name": "Reddit Data Exploration.ipynb",
   "provenance": []
  },
  "kernelspec": {
   "display_name": "Python 3",
   "language": "python",
   "name": "python3"
  },
  "language_info": {
   "codemirror_mode": {
    "name": "ipython",
    "version": 3
   },
   "file_extension": ".py",
   "mimetype": "text/x-python",
   "name": "python",
   "nbconvert_exporter": "python",
   "pygments_lexer": "ipython3",
   "version": "3.7.4"
  }
 },
 "nbformat": 4,
 "nbformat_minor": 1
}
